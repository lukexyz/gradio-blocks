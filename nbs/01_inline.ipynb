{
 "cells": [
  {
   "cell_type": "markdown",
   "metadata": {},
   "source": [
    "# `Jupyter` Inline Gradio Demos 🧪\n",
    "\n",
    "Check here for some examples:  \n",
    "🔗 https://colab.research.google.com/github/gradio-app/gradio/blob/main/demo/altair_plot/run.ipynb#scrollTo=Kh6lvbLkcfF2"
   ]
  },
  {
   "cell_type": "code",
   "execution_count": 1,
   "metadata": {},
   "outputs": [],
   "source": [
    "import altair as alt\n",
    "import gradio as gr\n",
    "import numpy as np\n",
    "import pandas as pd\n",
    "from gradio import components\n",
    "from vega_datasets import data as datasets\n",
    "%load_ext gradio\n",
    "%load_ext autoreload\n",
    "%autoreload 2"
   ]
  },
  {
   "cell_type": "code",
   "execution_count": 2,
   "metadata": {},
   "outputs": [],
   "source": [
    "# add parent folder to path\n",
    "import sys\n",
    "sys.path.append('..')\n",
    "from gradio_blocks.charts import get_sample, human_readify, create_sales_chart"
   ]
  },
  {
   "cell_type": "code",
   "execution_count": 3,
   "metadata": {},
   "outputs": [],
   "source": [
    "data = get_sample(verbose=False)\n",
    "sales_chart = create_sales_chart(data)"
   ]
  },
  {
   "cell_type": "code",
   "execution_count": 4,
   "metadata": {},
   "outputs": [],
   "source": [
    "def create_stock_chart():\n",
    "    \"\"\"Sample chart from vega_datasets with interactivity\"\"\"\n",
    "    source = datasets.stocks()\n",
    "    highlight = alt.selection_point(on='mouseover', fields=['symbol'], nearest=True)\n",
    "    base = alt.Chart(source).encode(x='date:T', y='price:Q', color='symbol:N')\n",
    "    points = base.mark_circle() \\\n",
    "                 .encode(opacity=alt.value(0)) \\\n",
    "                 .add_params(highlight) \\\n",
    "                 .properties(width=600) \n",
    "    lines = base.mark_line().encode(size=alt.condition(~highlight, alt.value(1), alt.value(3)))\n",
    "    return points + lines"
   ]
  },
  {
   "cell_type": "code",
   "execution_count": 7,
   "metadata": {},
   "outputs": [
    {
     "name": "stdout",
     "output_type": "stream",
     "text": [
      "Running on local URL:  http://127.0.0.1:7861\n",
      "\n",
      "To create a public link, set `share=True` in `launch()`.\n"
     ]
    },
    {
     "data": {
      "text/html": [
       "<div><iframe src=\"http://127.0.0.1:7861/\" width=\"100%\" height=\"500\" allow=\"autoplay; camera; microphone; clipboard-read; clipboard-write;\" frameborder=\"0\" allowfullscreen></iframe></div>"
      ],
      "text/plain": [
       "<IPython.core.display.HTML object>"
      ]
     },
     "metadata": {},
     "output_type": "display_data"
    }
   ],
   "source": [
    "\n",
    "def plotter(plot_name):\n",
    "    if plot_name == \"Monthly Sales\":\n",
    "        data = get_sample(verbose=False)\n",
    "        return create_sales_chart(data)\n",
    "        \n",
    "    elif plot_name == \"Stock Prices\":\n",
    "        return create_stock_chart()\n",
    "\n",
    "\n",
    "with gr.Blocks() as demo:\n",
    "    gr.Markdown(\"# Plotter 🔦\")\n",
    "\n",
    "    button = gr.Radio(label=\"Plot type\",\n",
    "                      choices=['Monthly Sales', \"Stock Prices\"], value='Monthly Sales')\n",
    "    plot = gr.Plot(label=\"Plot\")\n",
    "\n",
    "    button.change(plotter, inputs=button, outputs=[plot])\n",
    "    demo.load(plotter, inputs=[button], outputs=[plot])\n",
    "\n",
    "    input_text = gr.Textbox(placeholder=\"What month to highlight?\")\n",
    "    output_text = gr.Textbox()\n",
    "    input_text.change(fn=lambda x: f\"Welcome, {x}!\",\n",
    "        inputs=input_text,\n",
    "        outputs=output_text)\n",
    "\n",
    "\n",
    "if __name__ == \"__main__\":\n",
    "    demo.launch()"
   ]
  },
  {
   "cell_type": "code",
   "execution_count": 55,
   "metadata": {},
   "outputs": [
    {
     "data": {
      "text/html": [
       "<div><iframe src=\"http://127.0.0.1:7862/\" width=\"100%\" height=\"500\" allow=\"autoplay; camera; microphone; clipboard-read; clipboard-write;\" frameborder=\"0\" allowfullscreen></iframe></div>"
      ],
      "text/plain": [
       "<IPython.core.display.HTML object>"
      ]
     },
     "metadata": {},
     "output_type": "display_data"
    }
   ],
   "source": [
    "%%blocks\n",
    "\n",
    "def goodbye_message(x, tone):\n",
    "    if x == \"\":\n",
    "        return \"\"\n",
    "    elif tone == \"kindness\":\n",
    "        return f\"See you later, {x}. Take care!\"\n",
    "    else:  # tone == \"curtness\"\n",
    "        return f\"Get out of here {x}, you idiot!!\"\n",
    "\n",
    "\n",
    "def repeat_text(text, times):\n",
    "    return text * times\n",
    "\n",
    "\n",
    "gr.Markdown(\"# Tabnation 📁\")\n",
    "\n",
    "with gr.Blocks() as demo:\n",
    "    with gr.Tab(\"💌 Welcome Message\"):\n",
    "        text_input = gr.Textbox(label='Name', placeholder=\"Enter your name..\")\n",
    "    \n",
    "    with gr.Tab(\"💬 Details\"):\n",
    "        # Radio button for kindness or curtness\n",
    "        tone_radio = gr.Radio(choices=[\"kindness\", \"curtness\"], label=\"Tone\", value=\"kindness\")\n",
    "\n",
    "    with gr.Tab(\"🎚️ Slider\"):\n",
    "            # A slider for the number of times to repeat the message\n",
    "            repeat_slider = gr.Slider(minimum=1, maximum=10, step=1, label=\"Repeat\", value=1)\n",
    "            with gr.Accordion(\"Open for More!\"):\n",
    "                look_at_me = gr.Textbox(label=\"Look at me!\")\n",
    "                \n",
    "                # Use a lambda function to update the textbox when the slider changes\n",
    "                repeat_slider.change(fn=lambda value: str(value), \n",
    "                                    inputs=repeat_slider, \n",
    "                                    outputs=look_at_me)\n",
    "\n",
    "with gr.Row():\n",
    "    output_welcome = gr.Textbox(label=\"Welcome Message\")\n",
    "    output_goodbye = gr.Textbox(label=\"Goodbye Message\")\n",
    "\n",
    "    text_input.change(fn=lambda x: f\"Welcome {x}!\",\n",
    "            inputs=text_input,\n",
    "            outputs=output_welcome)\n",
    "\n",
    "    # Update the goodbye message when the text input or radio button changes\n",
    "    text_input.change(fn=goodbye_message,\n",
    "                    inputs=[text_input, tone_radio],\n",
    "                    outputs=output_goodbye)\n",
    "\n",
    "    tone_radio.change(fn=goodbye_message,\n",
    "                    inputs=[text_input, tone_radio],\n",
    "                    outputs=output_goodbye)\n"
   ]
  },
  {
   "cell_type": "code",
   "execution_count": null,
   "metadata": {},
   "outputs": [],
   "source": []
  },
  {
   "cell_type": "code",
   "execution_count": 57,
   "metadata": {},
   "outputs": [],
   "source": [
    "#| hide\n",
    "import nbdev; nbdev.nbdev_export()"
   ]
  },
  {
   "cell_type": "code",
   "execution_count": null,
   "metadata": {},
   "outputs": [],
   "source": []
  }
 ],
 "metadata": {
  "kernelspec": {
   "display_name": "gblocks",
   "language": "python",
   "name": "python3"
  },
  "language_info": {
   "codemirror_mode": {
    "name": "ipython",
    "version": 3
   },
   "file_extension": ".py",
   "mimetype": "text/x-python",
   "name": "python",
   "nbconvert_exporter": "python",
   "pygments_lexer": "ipython3",
   "version": "3.11.4"
  },
  "orig_nbformat": 4
 },
 "nbformat": 4,
 "nbformat_minor": 2
}
