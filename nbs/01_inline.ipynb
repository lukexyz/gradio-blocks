{
 "cells": [
  {
   "cell_type": "markdown",
   "metadata": {},
   "source": [
    "# `Jupyter` Inline Gradio Demos 🧪\n",
    "\n",
    "Check here for some examples:  \n",
    "🔗 https://colab.research.google.com/github/gradio-app/gradio/blob/main/demo/altair_plot/run.ipynb#scrollTo=Kh6lvbLkcfF2"
   ]
  },
  {
   "cell_type": "code",
   "execution_count": 11,
   "metadata": {},
   "outputs": [
    {
     "name": "stdout",
     "output_type": "stream",
     "text": [
      "The gradio extension is already loaded. To reload it, use:\n",
      "  %reload_ext gradio\n",
      "The autoreload extension is already loaded. To reload it, use:\n",
      "  %reload_ext autoreload\n"
     ]
    }
   ],
   "source": [
    "import altair as alt\n",
    "import gradio as gr\n",
    "import numpy as np\n",
    "import pandas as pd\n",
    "from gradio import components\n",
    "from vega_datasets import data as datasets\n",
    "%load_ext gradio\n",
    "%load_ext autoreload\n",
    "%autoreload 2\n"
   ]
  },
  {
   "cell_type": "code",
   "execution_count": 12,
   "metadata": {},
   "outputs": [],
   "source": [
    "# add parent folder to path\n",
    "import sys\n",
    "sys.path.append('..')\n",
    "from gradio_blocks.charts import get_sample, human_readify, create_sales_chart"
   ]
  },
  {
   "cell_type": "code",
   "execution_count": 13,
   "metadata": {},
   "outputs": [],
   "source": [
    "data = get_sample(verbose=False)\n",
    "sales_chart = create_sales_chart(data)"
   ]
  },
  {
   "cell_type": "code",
   "execution_count": 14,
   "metadata": {},
   "outputs": [],
   "source": [
    "def create_stock_chart():\n",
    "    \"\"\"Sample chart from vega_datasets with interactivity\"\"\"\n",
    "    source = datasets.stocks()\n",
    "    highlight = alt.selection_point(on='mouseover', fields=['symbol'], nearest=True)\n",
    "    base = alt.Chart(source).encode(x='date:T', y='price:Q', color='symbol:N')\n",
    "    points = base.mark_circle() \\\n",
    "                 .encode(opacity=alt.value(0)) \\\n",
    "                 .add_params(highlight) \\\n",
    "                 .properties(width=600) \n",
    "    lines = base.mark_line().encode(size=alt.condition(~highlight, alt.value(1), alt.value(3)))\n",
    "    return points + lines"
   ]
  },
  {
   "cell_type": "code",
   "execution_count": 15,
   "metadata": {},
   "outputs": [
    {
     "ename": "NameError",
     "evalue": "name 'make_plot' is not defined",
     "output_type": "error",
     "traceback": [
      "\u001b[1;31m---------------------------------------------------------------------------\u001b[0m",
      "\u001b[1;31mNameError\u001b[0m                                 Traceback (most recent call last)",
      "\u001b[1;32md:\\python\\gradio-blocks\\nbs\\01_inline.ipynb Cell 6\u001b[0m line \u001b[0;36m1\n\u001b[0;32m     <a href='vscode-notebook-cell:/d%3A/python/gradio-blocks/nbs/01_inline.ipynb#W5sZmlsZQ%3D%3D?line=14'>15</a>\u001b[0m plot \u001b[39m=\u001b[39m gr\u001b[39m.\u001b[39mPlot(label\u001b[39m=\u001b[39m\u001b[39m\"\u001b[39m\u001b[39mPlot\u001b[39m\u001b[39m\"\u001b[39m)\n\u001b[0;32m     <a href='vscode-notebook-cell:/d%3A/python/gradio-blocks/nbs/01_inline.ipynb#W5sZmlsZQ%3D%3D?line=16'>17</a>\u001b[0m button\u001b[39m.\u001b[39mchange(plotter, inputs\u001b[39m=\u001b[39mbutton, outputs\u001b[39m=\u001b[39m[plot])\n\u001b[1;32m---> <a href='vscode-notebook-cell:/d%3A/python/gradio-blocks/nbs/01_inline.ipynb#W5sZmlsZQ%3D%3D?line=17'>18</a>\u001b[0m demo\u001b[39m.\u001b[39mload(make_plot, inputs\u001b[39m=\u001b[39m[button], outputs\u001b[39m=\u001b[39m[plot])\n\u001b[0;32m     <a href='vscode-notebook-cell:/d%3A/python/gradio-blocks/nbs/01_inline.ipynb#W5sZmlsZQ%3D%3D?line=19'>20</a>\u001b[0m input_text \u001b[39m=\u001b[39m gr\u001b[39m.\u001b[39mTextbox(placeholder\u001b[39m=\u001b[39m\u001b[39m\"\u001b[39m\u001b[39mWhat month to highlight?\u001b[39m\u001b[39m\"\u001b[39m)\n\u001b[0;32m     <a href='vscode-notebook-cell:/d%3A/python/gradio-blocks/nbs/01_inline.ipynb#W5sZmlsZQ%3D%3D?line=20'>21</a>\u001b[0m output_text \u001b[39m=\u001b[39m gr\u001b[39m.\u001b[39mTextbox()\n",
      "\u001b[1;31mNameError\u001b[0m: name 'make_plot' is not defined"
     ]
    }
   ],
   "source": [
    "\n",
    "def plotter(plot_name):\n",
    "    if plot_name == \"Monthly Sales\":\n",
    "        data = get_sample(verbose=False)\n",
    "        return create_sales_chart(data)\n",
    "        \n",
    "    elif plot_name == \"Stock Prices\":\n",
    "        return create_stock_chart()\n",
    "\n",
    "\n",
    "with gr.Blocks() as demo:\n",
    "    gr.Markdown(\"# Plotter 🔦\")\n",
    "\n",
    "    button = gr.Radio(label=\"Plot type\",\n",
    "                      choices=['Monthly Sales', \"Stock Prices\"], value='Monthly Sales')\n",
    "    plot = gr.Plot(label=\"Plot\")\n",
    "\n",
    "    button.change(plotter, inputs=button, outputs=[plot])\n",
    "    demo.load(make_plot, inputs=[button], outputs=[plot])\n",
    "\n",
    "    input_text = gr.Textbox(placeholder=\"What month to highlight?\")\n",
    "    output_text = gr.Textbox()\n",
    "    input_text.change(fn=lambda x: f\"Welcome, {x}!\",\n",
    "        inputs=input_text,\n",
    "        outputs=output_text)\n",
    "\n",
    "\n",
    "if __name__ == \"__main__\":\n",
    "    demo.launch()"
   ]
  },
  {
   "cell_type": "code",
   "execution_count": null,
   "metadata": {},
   "outputs": [
    {
     "name": "stderr",
     "output_type": "stream",
     "text": [
      "ERROR:    [Errno 10048] error while attempting to bind on address ('127.0.0.1', 7860): only one usage of each socket address (protocol/network address/port) is normally permitted\n"
     ]
    },
    {
     "name": "stdout",
     "output_type": "stream",
     "text": [
      "Running on local URL:  http://127.0.0.1:7862\n"
     ]
    },
    {
     "data": {
      "text/html": [
       "<div><iframe src=\"http://127.0.0.1:7862/\" width=\"100%\" height=\"500\" allow=\"autoplay; camera; microphone; clipboard-read; clipboard-write;\" frameborder=\"0\" allowfullscreen></iframe></div>"
      ],
      "text/plain": [
       "<IPython.core.display.HTML object>"
      ]
     },
     "metadata": {},
     "output_type": "display_data"
    }
   ],
   "source": [
    "%%blocks\n",
    "\n",
    "data = get_sample(verbose=False)\n",
    "sales_chart = create_sales_chart(data)\n",
    "\n",
    "gr.Markdown(\"# Greetings from Gradio!\")\n",
    "inp = gr.Textbox(placeholder=\"What is your name?\")\n",
    "out = gr.Textbox()\n",
    "\n",
    "inp.change(fn=lambda x: f\"Welcome, {x}!\",\n",
    "           inputs=inp,\n",
    "           outputs=out)\n",
    "\n"
   ]
  },
  {
   "cell_type": "code",
   "execution_count": null,
   "metadata": {},
   "outputs": [
    {
     "name": "stderr",
     "output_type": "stream",
     "text": [
      "ERROR:    [Errno 10048] error while attempting to bind on address ('127.0.0.1', 7860): only one usage of each socket address (protocol/network address/port) is normally permitted\n"
     ]
    },
    {
     "name": "stdout",
     "output_type": "stream",
     "text": [
      "Running on local URL:  http://127.0.0.1:7863\n",
      "\n",
      "To create a public link, set `share=True` in `launch()`.\n"
     ]
    },
    {
     "data": {
      "text/html": [
       "<div><iframe src=\"http://127.0.0.1:7863/\" width=\"100%\" height=\"500\" allow=\"autoplay; camera; microphone; clipboard-read; clipboard-write;\" frameborder=\"0\" allowfullscreen></iframe></div>"
      ],
      "text/plain": [
       "<IPython.core.display.HTML object>"
      ]
     },
     "metadata": {},
     "output_type": "display_data"
    },
    {
     "data": {
      "text/plain": []
     },
     "execution_count": 9,
     "metadata": {},
     "output_type": "execute_result"
    }
   ],
   "source": [
    "\n",
    "\n",
    "def flip_text(x):\n",
    "    return x[::-1]\n",
    "\n",
    "\n",
    "def flip_image(x):\n",
    "    return np.fliplr(x)\n",
    "\n",
    "\n",
    "with gr.Blocks() as demo:\n",
    "    gr.Markdown(\"Flip text or image files using this demo.\")\n",
    "    with gr.Tab(\"Flip Text\"):\n",
    "        text_input = gr.Textbox()\n",
    "        text_output = gr.Textbox()\n",
    "        text_button = gr.Button(\"Flip\")\n",
    "    with gr.Tab(\"Flip Image\"):\n",
    "        with gr.Row():\n",
    "            image_input = gr.Image()\n",
    "            image_output = gr.Image()\n",
    "        image_button = gr.Button(\"Flip\")\n",
    "\n",
    "    with gr.Accordion(\"Open for More!\"):\n",
    "        gr.Markdown(\"Look at me...\")\n",
    "\n",
    "    text_button.click(flip_text, inputs=text_input, outputs=text_output)\n",
    "    image_button.click(flip_image, inputs=image_input, outputs=image_output)\n",
    "\n",
    "demo.launch()\n"
   ]
  },
  {
   "cell_type": "code",
   "execution_count": 57,
   "metadata": {},
   "outputs": [],
   "source": [
    "#| hide\n",
    "import nbdev; nbdev.nbdev_export()"
   ]
  },
  {
   "cell_type": "code",
   "execution_count": null,
   "metadata": {},
   "outputs": [],
   "source": []
  }
 ],
 "metadata": {
  "kernelspec": {
   "display_name": "gblocks",
   "language": "python",
   "name": "python3"
  },
  "language_info": {
   "codemirror_mode": {
    "name": "ipython",
    "version": 3
   },
   "file_extension": ".py",
   "mimetype": "text/x-python",
   "name": "python",
   "nbconvert_exporter": "python",
   "pygments_lexer": "ipython3",
   "version": "3.11.4"
  },
  "orig_nbformat": 4
 },
 "nbformat": 4,
 "nbformat_minor": 2
}
