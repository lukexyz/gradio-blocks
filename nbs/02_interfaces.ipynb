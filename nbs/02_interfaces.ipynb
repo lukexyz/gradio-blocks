{
 "cells": [
  {
   "cell_type": "code",
   "execution_count": 1,
   "metadata": {},
   "outputs": [],
   "source": [
    "import altair as alt\n",
    "import gradio as gr\n",
    "import numpy as np\n",
    "import pandas as pd\n",
    "from gradio import components\n",
    "from vega_datasets import data as datasets\n",
    "%load_ext gradio\n",
    "%load_ext autoreload\n",
    "%autoreload 2"
   ]
  },
  {
   "cell_type": "code",
   "execution_count": 3,
   "metadata": {},
   "outputs": [
    {
     "name": "stdout",
     "output_type": "stream",
     "text": [
      "4.4.1\n"
     ]
    }
   ],
   "source": [
    "# gradio version\n",
    "print(gr.__version__)"
   ]
  },
  {
   "cell_type": "markdown",
   "metadata": {},
   "source": [
    "## Global State\n",
    "Your function may use data that persists beyond a single function call. If the data is something accessible to all function calls and all users, you can create a variable outside the function call and access it inside the function. For example, you may load a large model outside the function and use it inside the function so that every function call does not need to reload the model."
   ]
  },
  {
   "cell_type": "code",
   "execution_count": 12,
   "metadata": {},
   "outputs": [
    {
     "name": "stdout",
     "output_type": "stream",
     "text": [
      "Running on local URL:  http://127.0.0.1:7863\n",
      "\n",
      "To create a public link, set `share=True` in `launch()`.\n"
     ]
    },
    {
     "data": {
      "text/html": [
       "<div><iframe src=\"http://127.0.0.1:7863/\" width=\"100%\" height=\"500\" allow=\"autoplay; camera; microphone; clipboard-read; clipboard-write;\" frameborder=\"0\" allowfullscreen></iframe></div>"
      ],
      "text/plain": [
       "<IPython.core.display.HTML object>"
      ]
     },
     "metadata": {},
     "output_type": "display_data"
    },
    {
     "data": {
      "text/plain": []
     },
     "execution_count": 12,
     "metadata": {},
     "output_type": "execute_result"
    }
   ],
   "source": [
    "import gradio as gr\n",
    "import pandas as pd\n",
    "\n",
    "# global state\n",
    "scores = []\n",
    "\n",
    "def track_score(score):\n",
    "    scores.append(score)\n",
    "    top_scores = sorted(scores, reverse=True)[:3]\n",
    "    # Convert top_scores to a DataFrame\n",
    "    df = pd.DataFrame(top_scores, columns=[\"Top Scores\"])\n",
    "    return df\n",
    "\n",
    "demo = gr.Interface(\n",
    "    fn=track_score,\n",
    "    inputs=gr.Number(label=\"Score\"),\n",
    "    outputs=gr.Dataframe()  # Changed from JSON to Dataframe\n",
    ")\n",
    "\n",
    "demo.launch()\n"
   ]
  },
  {
   "cell_type": "code",
   "execution_count": 16,
   "metadata": {},
   "outputs": [
    {
     "name": "stdout",
     "output_type": "stream",
     "text": [
      "Running on local URL:  http://127.0.0.1:7866\n",
      "\n",
      "To create a public link, set `share=True` in `launch()`.\n"
     ]
    },
    {
     "data": {
      "text/html": [
       "<div><iframe src=\"http://127.0.0.1:7866/\" width=\"100%\" height=\"500\" allow=\"autoplay; camera; microphone; clipboard-read; clipboard-write;\" frameborder=\"0\" allowfullscreen></iframe></div>"
      ],
      "text/plain": [
       "<IPython.core.display.HTML object>"
      ]
     },
     "metadata": {},
     "output_type": "display_data"
    },
    {
     "data": {
      "text/plain": []
     },
     "execution_count": 16,
     "metadata": {},
     "output_type": "execute_result"
    }
   ],
   "source": [
    "import gradio as gr\n",
    "\n",
    "# Define different functionalities\n",
    "def func1(input):\n",
    "    return f\"Function 1 applied to {input}\"\n",
    "\n",
    "def func2(input):\n",
    "    return f\"Function 2 applied to {input}\"\n",
    "\n",
    "# Dropdown to simulate nested tabs\n",
    "def main_interface(selected_function, input):\n",
    "    if selected_function == \"Function 1\":\n",
    "        return func1(input)\n",
    "    elif selected_function == \"Function 2\":\n",
    "        return func2(input)\n",
    "    else:\n",
    "        return \"Select a function\"\n",
    "\n",
    "# Main Gradio Interface\n",
    "interface = gr.Interface(\n",
    "    main_interface,\n",
    "    inputs=[\n",
    "        gr.Dropdown([\"Function 1\", \"Function 2\"], label=\"Select Function\"),\n",
    "        gr.Text(label=\"Input\")\n",
    "    ],\n",
    "    outputs=\"text\",\n",
    "    live=True\n",
    ")\n",
    "\n",
    "# Tabbed Interface\n",
    "app = gr.TabbedInterface([interface], [\"Demo 1\"])\n",
    "app.launch()\n"
   ]
  },
  {
   "cell_type": "code",
   "execution_count": null,
   "metadata": {},
   "outputs": [],
   "source": []
  }
 ],
 "metadata": {
  "kernelspec": {
   "display_name": "gblocks",
   "language": "python",
   "name": "python3"
  },
  "language_info": {
   "codemirror_mode": {
    "name": "ipython",
    "version": 3
   },
   "file_extension": ".py",
   "mimetype": "text/x-python",
   "name": "python",
   "nbconvert_exporter": "python",
   "pygments_lexer": "ipython3",
   "version": "3.11.4"
  }
 },
 "nbformat": 4,
 "nbformat_minor": 2
}
